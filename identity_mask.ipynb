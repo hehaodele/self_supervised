{
 "cells": [
  {
   "cell_type": "code",
   "execution_count": 1,
   "metadata": {},
   "outputs": [],
   "source": [
    "from torchvision.datasets import STL10\n",
    "from utils import STL10_ID\n",
    "import numpy as np\n",
    "import matplotlib.pyplot as plt\n",
    "from tqdm import tqdm"
   ]
  },
  {
   "cell_type": "code",
   "execution_count": 4,
   "metadata": {},
   "outputs": [
    {
     "data": {
      "image/png": "[encoded data removed]",
      "text/plain": [
       "<Figure size 432x288 with 1 Axes>"
      ]
     },
     "metadata": {
      "needs_background": "light"
     },
     "output_type": "display_data"
    }
   ],
   "source": [
    "tab=[['stripH-0.5-96', 23.7, 66.1],\n",
    "['stripH-0.5-64', 19.2, 67.2],\n",
    "['stripH-0.5-32', 13.5, 62.7],\n",
    "['stripH-0.5-8', 6.7, 68.4],\n",
    "['stripHV-0.5-96', 30.2, 49.4],\n",
    "['stripHV-0.5-64', 25.2, 42.5],\n",
    "['stripHV-0.5-32', 18.7, 46.5],\n",
    "['stripHV-0.5-8', 9.5, 49.3],\n",
    "['stripHV-1.0-96', 60.4, 30],\n",
    "['stripHV-0.75-96', 45.3, 35.7],\n",
    "['stripHV-0.5-96', 30.2, 49.4],\n",
    "['stripHV-0.25-96', 15.1, 77.4],\n",
    "['2D-1.0', 41.7, 34.8],\n",
    "['2D-0.75', 31.4, 37.6],\n",
    "['2D-0.5', 21, 50.6],\n",
    "['2D-0.25', 10.5, 75.4],\n",
    "    ['base', 0, 86.32]]\n",
    "\n",
    "acc = [x[-1] for x in tab]\n",
    "dis = [x[-2] for x in tab]\n",
    "\n",
    "fig, ax = plt.subplots(1,1)\n",
    "ax.plot(dis[:4],acc[:4],'o')\n",
    "ax.plot(dis[4:12],acc[4:12],'o')\n",
    "ax.plot(dis[-5:-1],acc[-5:-1],'o')\n",
    "ax.plot(dis[-1:],acc[-1:],'o')\n",
    "plt.show()"
   ]
  },
  {
   "cell_type": "code",
   "execution_count": null,
   "metadata": {},
   "outputs": [],
   "source": [
    "ds_id = STL10_ID(root='./data', split='train+unlabeled', download=True,\n",
    "             id_type='strip-h',\n",
    "             id_weight=0.75,\n",
    "             strip_len=64)\n",
    "ds = STL10(root='./data', split='train+unlabeled')"
   ]
  },
  {
   "cell_type": "code",
   "execution_count": 2,
   "metadata": {},
   "outputs": [],
   "source": [
    "def calc_distortaion(id_type='strip-h', id_weight=0.75, strip_len=64):\n",
    "    ds_id = STL10_ID(root='./data', split='train+unlabeled', download=True,\n",
    "             id_type=id_type,\n",
    "             id_weight=id_weight,\n",
    "             strip_len=strip_len)\n",
    "    ds = STL10(root='./data', split='train+unlabeled')\n",
    "    l2_list = []\n",
    "    for (x, y), (x_id, y) in tqdm(zip(ds, ds_id)):\n",
    "        x = np.asarray(x).astype(np.float32) / 255.0\n",
    "        x_id = np.asarray(x_id).astype(np.float32) / 255.0\n",
    "        l2 = np.sqrt(((x - x_id) ** 2).sum())\n",
    "        l2_list.append(l2)\n",
    "    l2 = np.mean(l2_list)\n",
    "    print('L2:', l2)\n",
    "    return l2"
   ]
  },
  {
   "cell_type": "code",
   "execution_count": 5,
   "metadata": {},
   "outputs": [
    {
     "name": "stdout",
     "output_type": "stream",
     "text": [
      "Files already downloaded and verified\n"
     ]
    },
    {
     "name": "stderr",
     "output_type": "stream",
     "text": [
      "105000it [01:00, 1726.02it/s]\n"
     ]
    },
    {
     "name": "stdout",
     "output_type": "stream",
     "text": [
      "L2: 30.22472\n",
      "Files already downloaded and verified\n"
     ]
    },
    {
     "name": "stderr",
     "output_type": "stream",
     "text": [
      "105000it [01:01, 1719.88it/s]\n"
     ]
    },
    {
     "name": "stdout",
     "output_type": "stream",
     "text": [
      "L2: 25.190472\n",
      "Files already downloaded and verified\n"
     ]
    },
    {
     "name": "stderr",
     "output_type": "stream",
     "text": [
      "105000it [00:59, 1751.39it/s]\n"
     ]
    },
    {
     "name": "stdout",
     "output_type": "stream",
     "text": [
      "L2: 18.704779\n",
      "Files already downloaded and verified\n"
     ]
    },
    {
     "name": "stderr",
     "output_type": "stream",
     "text": [
      "105000it [00:59, 1774.67it/s]"
     ]
    },
    {
     "name": "stdout",
     "output_type": "stream",
     "text": [
      "L2: 9.469238\n"
     ]
    },
    {
     "name": "stderr",
     "output_type": "stream",
     "text": [
      "\n"
     ]
    },
    {
     "data": {
      "text/plain": [
       "9.469238"
      ]
     },
     "execution_count": 5,
     "metadata": {},
     "output_type": "execute_result"
    }
   ],
   "source": [
    "calc_distortaion(id_type='strip-hv', id_weight=0.5, strip_len=96)\n",
    "calc_distortaion(id_type='strip-hv', id_weight=0.5, strip_len=64)\n",
    "calc_distortaion(id_type='strip-hv', id_weight=0.5, strip_len=32)\n",
    "calc_distortaion(id_type='strip-hv', id_weight=0.5, strip_len=8)"
   ]
  },
  {
   "cell_type": "code",
   "execution_count": null,
   "metadata": {},
   "outputs": [
    {
     "name": "stdout",
     "output_type": "stream",
     "text": [
      "Files already downloaded and verified\n"
     ]
    },
    {
     "name": "stderr",
     "output_type": "stream",
     "text": [
      "105000it [00:47, 2202.17it/s]\n"
     ]
    },
    {
     "name": "stdout",
     "output_type": "stream",
     "text": [
      "L2: 23.70465\n",
      "Files already downloaded and verified\n"
     ]
    },
    {
     "name": "stderr",
     "output_type": "stream",
     "text": [
      "105000it [00:49, 2100.57it/s]\n"
     ]
    },
    {
     "name": "stdout",
     "output_type": "stream",
     "text": [
      "L2: 19.232319\n",
      "Files already downloaded and verified\n"
     ]
    },
    {
     "name": "stderr",
     "output_type": "stream",
     "text": [
      "105000it [00:49, 2118.24it/s]\n"
     ]
    },
    {
     "name": "stdout",
     "output_type": "stream",
     "text": [
      "L2: 13.476611\n",
      "Files already downloaded and verified\n"
     ]
    },
    {
     "name": "stderr",
     "output_type": "stream",
     "text": [
      "105000it [00:49, 2108.94it/s]\n"
     ]
    },
    {
     "name": "stdout",
     "output_type": "stream",
     "text": [
      "L2: 6.6865\n",
      "Files already downloaded and verified\n"
     ]
    },
    {
     "name": "stderr",
     "output_type": "stream",
     "text": [
      "105000it [01:00, 1740.71it/s]\n"
     ]
    },
    {
     "name": "stdout",
     "output_type": "stream",
     "text": [
      "L2: 60.23821\n",
      "Files already downloaded and verified\n"
     ]
    },
    {
     "name": "stderr",
     "output_type": "stream",
     "text": [
      "105000it [00:59, 1772.87it/s]\n"
     ]
    },
    {
     "name": "stdout",
     "output_type": "stream",
     "text": [
      "L2: 45.337463\n",
      "Files already downloaded and verified\n"
     ]
    },
    {
     "name": "stderr",
     "output_type": "stream",
     "text": [
      "105000it [00:59, 1775.84it/s]\n"
     ]
    },
    {
     "name": "stdout",
     "output_type": "stream",
     "text": [
      "L2: 30.22472\n",
      "Files already downloaded and verified\n"
     ]
    }
   ],
   "source": [
    "calc_distortaion(id_type='strip', id_weight=0.5, strip_len=96)\n",
    "calc_distortaion(id_type='strip', id_weight=0.5, strip_len=64)\n",
    "calc_distortaion(id_type='strip', id_weight=0.5, strip_len=32)\n",
    "calc_distortaion(id_type='strip', id_weight=0.5, strip_len=8)\n",
    "\n",
    "calc_distortaion(id_type='strip-hv', id_weight=1.0, strip_len=96)\n",
    "calc_distortaion(id_type='strip-hv', id_weight=0.75, strip_len=96)\n",
    "calc_distortaion(id_type='strip-hv', id_weight=0.5, strip_len=96)\n",
    "calc_distortaion(id_type='strip-hv', id_weight=0.25, strip_len=96)\n",
    "\n",
    "calc_distortaion(id_type='2d', id_weight=1.0, strip_len=96)\n",
    "calc_distortaion(id_type='2d', id_weight=0.75, strip_len=96)\n",
    "calc_distortaion(id_type='2d', id_weight=0.5, strip_len=96)\n",
    "calc_distortaion(id_type='2d', id_weight=0.25, strip_len=96)"
   ]
  },
  {
   "cell_type": "code",
   "execution_count": null,
   "metadata": {},
   "outputs": [],
   "source": [
    "\"\"\"\n",
    "visual\n",
    "\"\"\"\n",
    "cnt = 0\n",
    "for (x, y), (x_id, y) in zip(ds, ds_id):\n",
    "    fig, ax = plt.subplots(1,2)\n",
    "    ax[0].imshow(x)\n",
    "    ax[1].imshow(x_id)\n",
    "    cnt += 1\n",
    "    if cnt == 50:\n",
    "        break"
   ]
  },
  {
   "cell_type": "code",
   "execution_count": null,
   "metadata": {},
   "outputs": [],
   "source": [
    "def gen_strip_mask(stamp, size=96, res=2, stride=48):\n",
    "    N = len(stamp)\n",
    "    mask = np.ones((size,size), dtype=np.float32)\n",
    "    for s in range(0, size, stride):\n",
    "        for i in range(N):\n",
    "            mask[s+i*res: s+i*res+res, :] *= stamp[i]\n",
    "            mask[:, s+i*res: s+i*res+res] *= stamp[i]\n",
    "    return mask\n",
    "\n",
    "def gen_2d_mask(stamp, size=96, res=5, stride=48):\n",
    "    assert len(stamp) == 25\n",
    "    block = np.ones((9,9))\n",
    "    \n",
    "    for c in range(25):\n",
    "        i, j = c // 5, c % 5\n",
    "        block[4 + i, 4 + j] = stamp[c]\n",
    "        block[4 - i, 4 + j] = stamp[c]\n",
    "        block[4 + i, 4 - j] = stamp[c]\n",
    "        block[4 - i, 4 - j] = stamp[c]\n",
    "    \n",
    "    mask = np.ones((size,size), dtype=np.float32)\n",
    "    for si in range(0, size, stride):\n",
    "        for sj in range(0, size, stride):\n",
    "            for i in range(9):\n",
    "                for j in range(9):\n",
    "                    mask[si+i*res: si+i*res+res, sj+j*res: sj+j*res+res] = block[i,j]\n",
    "    return mask\n",
    "\n",
    "\n",
    "def mask_image(image, mask, weight):\n",
    "    one = np.ones_like(mask)\n",
    "    tmp = (one * (1 - weight) + mask * weight)\n",
    "    return (image.astype(float) * tmp[:,:,None]).astype(image.dtype)\n",
    "\n",
    "cnt = 1\n",
    "for x, y in ds:\n",
    "#     mask = gen_2d_mask((np.random.rand(25) > 0.3).astype(int))\n",
    "    x = np.asarray(x)\n",
    "    \n",
    "    fig, ax = plt.subplots(1,2)\n",
    "    ax[0].imshow(x)\n",
    "#     ax[1].imshow(mask_image(x, mask, 0.5))\n",
    "    \n",
    "    cnt += 1\n",
    "    if cnt == 50:\n",
    "        break"
   ]
  }
 ],
 "metadata": {
  "kernelspec": {
   "display_name": "Python 3",
   "language": "python",
   "name": "python3"
  },
  "language_info": {
   "codemirror_mode": {
    "name": "ipython",
    "version": 3
   },
   "file_extension": ".py",
   "mimetype": "text/x-python",
   "name": "python",
   "nbconvert_exporter": "python",
   "pygments_lexer": "ipython3",
   "version": "3.8.5"
  }
 },
 "nbformat": 4,
 "nbformat_minor": 4
}
